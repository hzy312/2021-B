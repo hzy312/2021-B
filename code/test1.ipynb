{
 "cells": [
  {
   "cell_type": "code",
   "execution_count": null,
   "source": [],
   "outputs": [],
   "metadata": {}
  },
  {
   "cell_type": "code",
   "execution_count": 59,
   "source": [
    "import numpy as np\r\n",
    "import pandas as pd\r\n",
    "import matplotlib.pyplot as plt"
   ],
   "outputs": [],
   "metadata": {}
  },
  {
   "cell_type": "code",
   "execution_count": 60,
   "source": [
    "data_order = pd.read_excel(r'附件1 近5年402家供应商的相关数据.xlsx',sheet_name='企业的订货量（m³）')\r\n",
    "data_supply = pd.read_excel(r'附件1 近5年402家供应商的相关数据.xlsx',sheet_name='供应商的供货量（m³）')"
   ],
   "outputs": [],
   "metadata": {}
  },
  {
   "cell_type": "code",
   "execution_count": 61,
   "source": [
    "data_order.head()"
   ],
   "outputs": [
    {
     "output_type": "execute_result",
     "data": {
      "text/html": [
       "<div>\n",
       "<style scoped>\n",
       "    .dataframe tbody tr th:only-of-type {\n",
       "        vertical-align: middle;\n",
       "    }\n",
       "\n",
       "    .dataframe tbody tr th {\n",
       "        vertical-align: top;\n",
       "    }\n",
       "\n",
       "    .dataframe thead th {\n",
       "        text-align: right;\n",
       "    }\n",
       "</style>\n",
       "<table border=\"1\" class=\"dataframe\">\n",
       "  <thead>\n",
       "    <tr style=\"text-align: right;\">\n",
       "      <th></th>\n",
       "      <th>供应商ID</th>\n",
       "      <th>材料分类</th>\n",
       "      <th>W001</th>\n",
       "      <th>W002</th>\n",
       "      <th>W003</th>\n",
       "      <th>W004</th>\n",
       "      <th>W005</th>\n",
       "      <th>W006</th>\n",
       "      <th>W007</th>\n",
       "      <th>W008</th>\n",
       "      <th>...</th>\n",
       "      <th>W231</th>\n",
       "      <th>W232</th>\n",
       "      <th>W233</th>\n",
       "      <th>W234</th>\n",
       "      <th>W235</th>\n",
       "      <th>W236</th>\n",
       "      <th>W237</th>\n",
       "      <th>W238</th>\n",
       "      <th>W239</th>\n",
       "      <th>W240</th>\n",
       "    </tr>\n",
       "  </thead>\n",
       "  <tbody>\n",
       "    <tr>\n",
       "      <th>0</th>\n",
       "      <td>S001</td>\n",
       "      <td>B</td>\n",
       "      <td>0</td>\n",
       "      <td>0</td>\n",
       "      <td>0</td>\n",
       "      <td>43</td>\n",
       "      <td>0</td>\n",
       "      <td>0</td>\n",
       "      <td>0</td>\n",
       "      <td>0</td>\n",
       "      <td>...</td>\n",
       "      <td>1</td>\n",
       "      <td>0</td>\n",
       "      <td>0</td>\n",
       "      <td>1</td>\n",
       "      <td>0</td>\n",
       "      <td>1</td>\n",
       "      <td>0</td>\n",
       "      <td>0</td>\n",
       "      <td>0</td>\n",
       "      <td>0</td>\n",
       "    </tr>\n",
       "    <tr>\n",
       "      <th>1</th>\n",
       "      <td>S002</td>\n",
       "      <td>A</td>\n",
       "      <td>1</td>\n",
       "      <td>1</td>\n",
       "      <td>0</td>\n",
       "      <td>1</td>\n",
       "      <td>0</td>\n",
       "      <td>0</td>\n",
       "      <td>0</td>\n",
       "      <td>0</td>\n",
       "      <td>...</td>\n",
       "      <td>0</td>\n",
       "      <td>0</td>\n",
       "      <td>1</td>\n",
       "      <td>0</td>\n",
       "      <td>0</td>\n",
       "      <td>0</td>\n",
       "      <td>1</td>\n",
       "      <td>1</td>\n",
       "      <td>0</td>\n",
       "      <td>1</td>\n",
       "    </tr>\n",
       "    <tr>\n",
       "      <th>2</th>\n",
       "      <td>S003</td>\n",
       "      <td>C</td>\n",
       "      <td>7</td>\n",
       "      <td>1</td>\n",
       "      <td>0</td>\n",
       "      <td>0</td>\n",
       "      <td>0</td>\n",
       "      <td>1</td>\n",
       "      <td>4</td>\n",
       "      <td>50</td>\n",
       "      <td>...</td>\n",
       "      <td>10</td>\n",
       "      <td>3</td>\n",
       "      <td>50</td>\n",
       "      <td>20</td>\n",
       "      <td>20</td>\n",
       "      <td>7</td>\n",
       "      <td>10</td>\n",
       "      <td>9</td>\n",
       "      <td>20</td>\n",
       "      <td>10</td>\n",
       "    </tr>\n",
       "    <tr>\n",
       "      <th>3</th>\n",
       "      <td>S004</td>\n",
       "      <td>B</td>\n",
       "      <td>0</td>\n",
       "      <td>1</td>\n",
       "      <td>1</td>\n",
       "      <td>100</td>\n",
       "      <td>0</td>\n",
       "      <td>85</td>\n",
       "      <td>0</td>\n",
       "      <td>0</td>\n",
       "      <td>...</td>\n",
       "      <td>1</td>\n",
       "      <td>0</td>\n",
       "      <td>1</td>\n",
       "      <td>0</td>\n",
       "      <td>0</td>\n",
       "      <td>0</td>\n",
       "      <td>0</td>\n",
       "      <td>1</td>\n",
       "      <td>0</td>\n",
       "      <td>0</td>\n",
       "    </tr>\n",
       "    <tr>\n",
       "      <th>4</th>\n",
       "      <td>S005</td>\n",
       "      <td>A</td>\n",
       "      <td>30</td>\n",
       "      <td>60</td>\n",
       "      <td>60</td>\n",
       "      <td>60</td>\n",
       "      <td>70</td>\n",
       "      <td>70</td>\n",
       "      <td>60</td>\n",
       "      <td>70</td>\n",
       "      <td>...</td>\n",
       "      <td>80</td>\n",
       "      <td>70</td>\n",
       "      <td>70</td>\n",
       "      <td>70</td>\n",
       "      <td>70</td>\n",
       "      <td>70</td>\n",
       "      <td>70</td>\n",
       "      <td>70</td>\n",
       "      <td>70</td>\n",
       "      <td>80</td>\n",
       "    </tr>\n",
       "  </tbody>\n",
       "</table>\n",
       "<p>5 rows × 242 columns</p>\n",
       "</div>"
      ],
      "text/plain": [
       "  供应商ID 材料分类  W001  W002  W003  W004  W005  W006  W007  W008  ...  W231  W232  \\\n",
       "0  S001    B     0     0     0    43     0     0     0     0  ...     1     0   \n",
       "1  S002    A     1     1     0     1     0     0     0     0  ...     0     0   \n",
       "2  S003    C     7     1     0     0     0     1     4    50  ...    10     3   \n",
       "3  S004    B     0     1     1   100     0    85     0     0  ...     1     0   \n",
       "4  S005    A    30    60    60    60    70    70    60    70  ...    80    70   \n",
       "\n",
       "   W233  W234  W235  W236  W237  W238  W239  W240  \n",
       "0     0     1     0     1     0     0     0     0  \n",
       "1     1     0     0     0     1     1     0     1  \n",
       "2    50    20    20     7    10     9    20    10  \n",
       "3     1     0     0     0     0     1     0     0  \n",
       "4    70    70    70    70    70    70    70    80  \n",
       "\n",
       "[5 rows x 242 columns]"
      ]
     },
     "metadata": {},
     "execution_count": 61
    }
   ],
   "metadata": {}
  },
  {
   "cell_type": "code",
   "execution_count": 62,
   "source": [
    "data_supply.head()"
   ],
   "outputs": [
    {
     "output_type": "execute_result",
     "data": {
      "text/html": [
       "<div>\n",
       "<style scoped>\n",
       "    .dataframe tbody tr th:only-of-type {\n",
       "        vertical-align: middle;\n",
       "    }\n",
       "\n",
       "    .dataframe tbody tr th {\n",
       "        vertical-align: top;\n",
       "    }\n",
       "\n",
       "    .dataframe thead th {\n",
       "        text-align: right;\n",
       "    }\n",
       "</style>\n",
       "<table border=\"1\" class=\"dataframe\">\n",
       "  <thead>\n",
       "    <tr style=\"text-align: right;\">\n",
       "      <th></th>\n",
       "      <th>供应商ID</th>\n",
       "      <th>材料分类</th>\n",
       "      <th>W001</th>\n",
       "      <th>W002</th>\n",
       "      <th>W003</th>\n",
       "      <th>W004</th>\n",
       "      <th>W005</th>\n",
       "      <th>W006</th>\n",
       "      <th>W007</th>\n",
       "      <th>W008</th>\n",
       "      <th>...</th>\n",
       "      <th>W231</th>\n",
       "      <th>W232</th>\n",
       "      <th>W233</th>\n",
       "      <th>W234</th>\n",
       "      <th>W235</th>\n",
       "      <th>W236</th>\n",
       "      <th>W237</th>\n",
       "      <th>W238</th>\n",
       "      <th>W239</th>\n",
       "      <th>W240</th>\n",
       "    </tr>\n",
       "  </thead>\n",
       "  <tbody>\n",
       "    <tr>\n",
       "      <th>0</th>\n",
       "      <td>S001</td>\n",
       "      <td>B</td>\n",
       "      <td>0</td>\n",
       "      <td>0</td>\n",
       "      <td>0</td>\n",
       "      <td>0</td>\n",
       "      <td>0</td>\n",
       "      <td>0</td>\n",
       "      <td>0</td>\n",
       "      <td>0</td>\n",
       "      <td>...</td>\n",
       "      <td>0</td>\n",
       "      <td>0</td>\n",
       "      <td>0</td>\n",
       "      <td>1</td>\n",
       "      <td>0</td>\n",
       "      <td>2</td>\n",
       "      <td>0</td>\n",
       "      <td>0</td>\n",
       "      <td>0</td>\n",
       "      <td>0</td>\n",
       "    </tr>\n",
       "    <tr>\n",
       "      <th>1</th>\n",
       "      <td>S002</td>\n",
       "      <td>A</td>\n",
       "      <td>1</td>\n",
       "      <td>0</td>\n",
       "      <td>0</td>\n",
       "      <td>1</td>\n",
       "      <td>0</td>\n",
       "      <td>0</td>\n",
       "      <td>0</td>\n",
       "      <td>0</td>\n",
       "      <td>...</td>\n",
       "      <td>0</td>\n",
       "      <td>0</td>\n",
       "      <td>0</td>\n",
       "      <td>0</td>\n",
       "      <td>0</td>\n",
       "      <td>0</td>\n",
       "      <td>0</td>\n",
       "      <td>0</td>\n",
       "      <td>0</td>\n",
       "      <td>1</td>\n",
       "    </tr>\n",
       "    <tr>\n",
       "      <th>2</th>\n",
       "      <td>S003</td>\n",
       "      <td>C</td>\n",
       "      <td>8</td>\n",
       "      <td>1</td>\n",
       "      <td>0</td>\n",
       "      <td>0</td>\n",
       "      <td>0</td>\n",
       "      <td>1</td>\n",
       "      <td>5</td>\n",
       "      <td>58</td>\n",
       "      <td>...</td>\n",
       "      <td>9</td>\n",
       "      <td>4</td>\n",
       "      <td>54</td>\n",
       "      <td>20</td>\n",
       "      <td>20</td>\n",
       "      <td>8</td>\n",
       "      <td>18</td>\n",
       "      <td>10</td>\n",
       "      <td>22</td>\n",
       "      <td>11</td>\n",
       "    </tr>\n",
       "    <tr>\n",
       "      <th>3</th>\n",
       "      <td>S004</td>\n",
       "      <td>B</td>\n",
       "      <td>0</td>\n",
       "      <td>0</td>\n",
       "      <td>0</td>\n",
       "      <td>0</td>\n",
       "      <td>0</td>\n",
       "      <td>0</td>\n",
       "      <td>0</td>\n",
       "      <td>0</td>\n",
       "      <td>...</td>\n",
       "      <td>0</td>\n",
       "      <td>0</td>\n",
       "      <td>0</td>\n",
       "      <td>0</td>\n",
       "      <td>0</td>\n",
       "      <td>0</td>\n",
       "      <td>0</td>\n",
       "      <td>0</td>\n",
       "      <td>0</td>\n",
       "      <td>0</td>\n",
       "    </tr>\n",
       "    <tr>\n",
       "      <th>4</th>\n",
       "      <td>S005</td>\n",
       "      <td>A</td>\n",
       "      <td>37</td>\n",
       "      <td>62</td>\n",
       "      <td>60</td>\n",
       "      <td>65</td>\n",
       "      <td>76</td>\n",
       "      <td>76</td>\n",
       "      <td>65</td>\n",
       "      <td>71</td>\n",
       "      <td>...</td>\n",
       "      <td>84</td>\n",
       "      <td>78</td>\n",
       "      <td>77</td>\n",
       "      <td>79</td>\n",
       "      <td>78</td>\n",
       "      <td>75</td>\n",
       "      <td>74</td>\n",
       "      <td>74</td>\n",
       "      <td>76</td>\n",
       "      <td>81</td>\n",
       "    </tr>\n",
       "  </tbody>\n",
       "</table>\n",
       "<p>5 rows × 242 columns</p>\n",
       "</div>"
      ],
      "text/plain": [
       "  供应商ID 材料分类  W001  W002  W003  W004  W005  W006  W007  W008  ...  W231  W232  \\\n",
       "0  S001    B     0     0     0     0     0     0     0     0  ...     0     0   \n",
       "1  S002    A     1     0     0     1     0     0     0     0  ...     0     0   \n",
       "2  S003    C     8     1     0     0     0     1     5    58  ...     9     4   \n",
       "3  S004    B     0     0     0     0     0     0     0     0  ...     0     0   \n",
       "4  S005    A    37    62    60    65    76    76    65    71  ...    84    78   \n",
       "\n",
       "   W233  W234  W235  W236  W237  W238  W239  W240  \n",
       "0     0     1     0     2     0     0     0     0  \n",
       "1     0     0     0     0     0     0     0     1  \n",
       "2    54    20    20     8    18    10    22    11  \n",
       "3     0     0     0     0     0     0     0     0  \n",
       "4    77    79    78    75    74    74    76    81  \n",
       "\n",
       "[5 rows x 242 columns]"
      ]
     },
     "metadata": {},
     "execution_count": 62
    }
   ],
   "metadata": {}
  },
  {
   "cell_type": "code",
   "execution_count": 63,
   "source": [
    "data_order.set_index('供应商ID',inplace = True)"
   ],
   "outputs": [],
   "metadata": {}
  },
  {
   "cell_type": "code",
   "execution_count": 64,
   "source": [
    "data_supply.set_index('供应商ID',inplace = True)"
   ],
   "outputs": [],
   "metadata": {}
  },
  {
   "cell_type": "code",
   "execution_count": 66,
   "source": [
    "data_order_A = data_order.loc[data_order['材料分类'] == 'A'].drop('材料分类',axis = 1)\r\n",
    "data_order_B = data_order.loc[data_order['材料分类'] == 'B'].drop('材料分类',axis = 1)\r\n",
    "data_order_C = data_order.loc[data_order['材料分类'] == 'C'].drop('材料分类',axis = 1)"
   ],
   "outputs": [],
   "metadata": {}
  },
  {
   "cell_type": "code",
   "execution_count": 69,
   "source": [
    "data_supply_A = data_supply.loc[data_supply['材料分类'] == 'A'].drop('材料分类',axis = 1)\r\n",
    "data_supply_B = data_supply.loc[data_supply['材料分类'] == 'B'].drop('材料分类',axis = 1)\r\n",
    "data_supply_C = data_supply.loc[data_supply['材料分类'] == 'C'].drop('材料分类',axis = 1)"
   ],
   "outputs": [],
   "metadata": {}
  },
  {
   "cell_type": "code",
   "execution_count": 79,
   "source": [
    "(data_supply_A - data_order_A).loc['S002',:].plot()"
   ],
   "outputs": [
    {
     "output_type": "execute_result",
     "data": {
      "text/plain": [
       "<AxesSubplot:>"
      ]
     },
     "metadata": {},
     "execution_count": 79
    },
    {
     "output_type": "display_data",
     "data": {
      "image/png": "[encoded data removed]",
      "text/plain": [
       "<Figure size 432x288 with 1 Axes>"
      ]
     },
     "metadata": {
      "needs_background": "light"
     }
    }
   ],
   "metadata": {}
  },
  {
   "cell_type": "code",
   "execution_count": 84,
   "source": [
    "data_order.drop(columns= '材料分类').loc[:,'W001':'W024'].sum(axis= 0).values"
   ],
   "outputs": [
    {
     "output_type": "execute_result",
     "data": {
      "text/plain": [
       "array([18492, 19304, 18892, 18719, 27707, 18209, 19160, 19134, 18621,\n",
       "       18935, 18746, 21717, 21144, 18601, 18779, 18573, 22744, 19106,\n",
       "       18582, 18647, 18562, 19356, 23997, 21904], dtype=int64)"
      ]
     },
     "metadata": {},
     "execution_count": 84
    }
   ],
   "metadata": {}
  },
  {
   "cell_type": "code",
   "execution_count": 93,
   "source": [
    "data_order_A.loc[:,\"W001\":\"W024\"].plot()"
   ],
   "outputs": [
    {
     "output_type": "execute_result",
     "data": {
      "text/plain": [
       "<AxesSubplot:xlabel='供应商ID'>"
      ]
     },
     "metadata": {},
     "execution_count": 93
    },
    {
     "output_type": "stream",
     "name": "stderr",
     "text": [
      "D:\\anaconda\\lib\\site-packages\\matplotlib\\backends\\backend_agg.py:238: RuntimeWarning: Glyph 20379 missing from current font.\n",
      "  font.set_text(s, 0.0, flags=flags)\n",
      "D:\\anaconda\\lib\\site-packages\\matplotlib\\backends\\backend_agg.py:238: RuntimeWarning: Glyph 24212 missing from current font.\n",
      "  font.set_text(s, 0.0, flags=flags)\n",
      "D:\\anaconda\\lib\\site-packages\\matplotlib\\backends\\backend_agg.py:238: RuntimeWarning: Glyph 21830 missing from current font.\n",
      "  font.set_text(s, 0.0, flags=flags)\n",
      "D:\\anaconda\\lib\\site-packages\\matplotlib\\backends\\backend_agg.py:201: RuntimeWarning: Glyph 20379 missing from current font.\n",
      "  font.set_text(s, 0, flags=flags)\n",
      "D:\\anaconda\\lib\\site-packages\\matplotlib\\backends\\backend_agg.py:201: RuntimeWarning: Glyph 24212 missing from current font.\n",
      "  font.set_text(s, 0, flags=flags)\n",
      "D:\\anaconda\\lib\\site-packages\\matplotlib\\backends\\backend_agg.py:201: RuntimeWarning: Glyph 21830 missing from current font.\n",
      "  font.set_text(s, 0, flags=flags)\n"
     ]
    },
    {
     "output_type": "display_data",
     "data": {
      "image/png": "[encoded data removed]",
      "text/plain": [
       "<Figure size 432x288 with 1 Axes>"
      ]
     },
     "metadata": {
      "needs_background": "light"
     }
    }
   ],
   "metadata": {}
  },
  {
   "cell_type": "code",
   "execution_count": 94,
   "source": [
    "0.663*400 - 161.891"
   ],
   "outputs": [
    {
     "output_type": "execute_result",
     "data": {
      "text/plain": [
       "103.309"
      ]
     },
     "metadata": {},
     "execution_count": 94
    }
   ],
   "metadata": {}
  },
  {
   "cell_type": "code",
   "execution_count": 95,
   "source": [
    "df = pd.read_excel(r'C:\\Users\\86156\\Desktop\\收率-各因素.xlsx')"
   ],
   "outputs": [],
   "metadata": {}
  },
  {
   "cell_type": "code",
   "execution_count": 96,
   "source": [
    "df.head(\r\n",
    "    \r\n",
    ")"
   ],
   "outputs": [
    {
     "output_type": "execute_result",
     "data": {
      "text/html": [
       "<div>\n",
       "<style scoped>\n",
       "    .dataframe tbody tr th:only-of-type {\n",
       "        vertical-align: middle;\n",
       "    }\n",
       "\n",
       "    .dataframe tbody tr th {\n",
       "        vertical-align: top;\n",
       "    }\n",
       "\n",
       "    .dataframe thead th {\n",
       "        text-align: right;\n",
       "    }\n",
       "</style>\n",
       "<table border=\"1\" class=\"dataframe\">\n",
       "  <thead>\n",
       "    <tr style=\"text-align: right;\">\n",
       "      <th></th>\n",
       "      <th>温度</th>\n",
       "      <th>乙醇转化率(%)</th>\n",
       "      <th>C4烯烃选择性(%)</th>\n",
       "      <th>C4烯烃收率(%)</th>\n",
       "      <th>装料比</th>\n",
       "      <th>Co负载量</th>\n",
       "      <th>乙醇浓度</th>\n",
       "    </tr>\n",
       "  </thead>\n",
       "  <tbody>\n",
       "    <tr>\n",
       "      <th>0</th>\n",
       "      <td>250</td>\n",
       "      <td>2.067169</td>\n",
       "      <td>34.05</td>\n",
       "      <td>0.703871</td>\n",
       "      <td>1.0</td>\n",
       "      <td>1.0</td>\n",
       "      <td>1.68</td>\n",
       "    </tr>\n",
       "    <tr>\n",
       "      <th>1</th>\n",
       "      <td>275</td>\n",
       "      <td>5.851721</td>\n",
       "      <td>37.43</td>\n",
       "      <td>2.190299</td>\n",
       "      <td>1.0</td>\n",
       "      <td>1.0</td>\n",
       "      <td>1.68</td>\n",
       "    </tr>\n",
       "    <tr>\n",
       "      <th>2</th>\n",
       "      <td>300</td>\n",
       "      <td>14.968891</td>\n",
       "      <td>46.94</td>\n",
       "      <td>7.026398</td>\n",
       "      <td>1.0</td>\n",
       "      <td>1.0</td>\n",
       "      <td>1.68</td>\n",
       "    </tr>\n",
       "    <tr>\n",
       "      <th>3</th>\n",
       "      <td>325</td>\n",
       "      <td>19.681359</td>\n",
       "      <td>49.70</td>\n",
       "      <td>9.781635</td>\n",
       "      <td>1.0</td>\n",
       "      <td>1.0</td>\n",
       "      <td>1.68</td>\n",
       "    </tr>\n",
       "    <tr>\n",
       "      <th>4</th>\n",
       "      <td>350</td>\n",
       "      <td>36.801017</td>\n",
       "      <td>47.21</td>\n",
       "      <td>17.373760</td>\n",
       "      <td>1.0</td>\n",
       "      <td>1.0</td>\n",
       "      <td>1.68</td>\n",
       "    </tr>\n",
       "  </tbody>\n",
       "</table>\n",
       "</div>"
      ],
      "text/plain": [
       "    温度   乙醇转化率(%)  C4烯烃选择性(%)  C4烯烃收率(%)  装料比  Co负载量  乙醇浓度\n",
       "0  250   2.067169       34.05   0.703871  1.0    1.0  1.68\n",
       "1  275   5.851721       37.43   2.190299  1.0    1.0  1.68\n",
       "2  300  14.968891       46.94   7.026398  1.0    1.0  1.68\n",
       "3  325  19.681359       49.70   9.781635  1.0    1.0  1.68\n",
       "4  350  36.801017       47.21  17.373760  1.0    1.0  1.68"
      ]
     },
     "metadata": {},
     "execution_count": 96
    }
   ],
   "metadata": {}
  },
  {
   "cell_type": "code",
   "execution_count": 102,
   "source": [
    "x = df.iloc[:,0]\r\n",
    "x"
   ],
   "outputs": [
    {
     "output_type": "execute_result",
     "data": {
      "text/plain": [
       "0      250\n",
       "1      275\n",
       "2      300\n",
       "3      325\n",
       "4      350\n",
       "      ... \n",
       "104    275\n",
       "105    300\n",
       "106    325\n",
       "107    350\n",
       "108    400\n",
       "Name: 温度, Length: 109, dtype: int64"
      ]
     },
     "metadata": {},
     "execution_count": 102
    }
   ],
   "metadata": {}
  },
  {
   "cell_type": "code",
   "execution_count": 105,
   "source": [
    "x2  = df.iloc[:, 4:7]"
   ],
   "outputs": [],
   "metadata": {}
  },
  {
   "cell_type": "code",
   "execution_count": 106,
   "source": [
    "x2"
   ],
   "outputs": [
    {
     "output_type": "execute_result",
     "data": {
      "text/html": [
       "<div>\n",
       "<style scoped>\n",
       "    .dataframe tbody tr th:only-of-type {\n",
       "        vertical-align: middle;\n",
       "    }\n",
       "\n",
       "    .dataframe tbody tr th {\n",
       "        vertical-align: top;\n",
       "    }\n",
       "\n",
       "    .dataframe thead th {\n",
       "        text-align: right;\n",
       "    }\n",
       "</style>\n",
       "<table border=\"1\" class=\"dataframe\">\n",
       "  <thead>\n",
       "    <tr style=\"text-align: right;\">\n",
       "      <th></th>\n",
       "      <th>装料比</th>\n",
       "      <th>Co负载量</th>\n",
       "      <th>乙醇浓度</th>\n",
       "    </tr>\n",
       "  </thead>\n",
       "  <tbody>\n",
       "    <tr>\n",
       "      <th>0</th>\n",
       "      <td>1.0</td>\n",
       "      <td>1.0</td>\n",
       "      <td>1.68</td>\n",
       "    </tr>\n",
       "    <tr>\n",
       "      <th>1</th>\n",
       "      <td>1.0</td>\n",
       "      <td>1.0</td>\n",
       "      <td>1.68</td>\n",
       "    </tr>\n",
       "    <tr>\n",
       "      <th>2</th>\n",
       "      <td>1.0</td>\n",
       "      <td>1.0</td>\n",
       "      <td>1.68</td>\n",
       "    </tr>\n",
       "    <tr>\n",
       "      <th>3</th>\n",
       "      <td>1.0</td>\n",
       "      <td>1.0</td>\n",
       "      <td>1.68</td>\n",
       "    </tr>\n",
       "    <tr>\n",
       "      <th>4</th>\n",
       "      <td>1.0</td>\n",
       "      <td>1.0</td>\n",
       "      <td>1.68</td>\n",
       "    </tr>\n",
       "    <tr>\n",
       "      <th>...</th>\n",
       "      <td>...</td>\n",
       "      <td>...</td>\n",
       "      <td>...</td>\n",
       "    </tr>\n",
       "    <tr>\n",
       "      <th>104</th>\n",
       "      <td>1.0</td>\n",
       "      <td>1.0</td>\n",
       "      <td>0.90</td>\n",
       "    </tr>\n",
       "    <tr>\n",
       "      <th>105</th>\n",
       "      <td>1.0</td>\n",
       "      <td>1.0</td>\n",
       "      <td>0.90</td>\n",
       "    </tr>\n",
       "    <tr>\n",
       "      <th>106</th>\n",
       "      <td>1.0</td>\n",
       "      <td>1.0</td>\n",
       "      <td>0.90</td>\n",
       "    </tr>\n",
       "    <tr>\n",
       "      <th>107</th>\n",
       "      <td>1.0</td>\n",
       "      <td>1.0</td>\n",
       "      <td>0.90</td>\n",
       "    </tr>\n",
       "    <tr>\n",
       "      <th>108</th>\n",
       "      <td>1.0</td>\n",
       "      <td>1.0</td>\n",
       "      <td>0.90</td>\n",
       "    </tr>\n",
       "  </tbody>\n",
       "</table>\n",
       "<p>109 rows × 3 columns</p>\n",
       "</div>"
      ],
      "text/plain": [
       "     装料比  Co负载量  乙醇浓度\n",
       "0    1.0    1.0  1.68\n",
       "1    1.0    1.0  1.68\n",
       "2    1.0    1.0  1.68\n",
       "3    1.0    1.0  1.68\n",
       "4    1.0    1.0  1.68\n",
       "..   ...    ...   ...\n",
       "104  1.0    1.0  0.90\n",
       "105  1.0    1.0  0.90\n",
       "106  1.0    1.0  0.90\n",
       "107  1.0    1.0  0.90\n",
       "108  1.0    1.0  0.90\n",
       "\n",
       "[109 rows x 3 columns]"
      ]
     },
     "metadata": {},
     "execution_count": 106
    }
   ],
   "metadata": {}
  },
  {
   "cell_type": "code",
   "execution_count": 122,
   "source": [
    "x = df.iloc[:,[0,4,5,6]]\r\n",
    "x"
   ],
   "outputs": [
    {
     "output_type": "execute_result",
     "data": {
      "text/html": [
       "<div>\n",
       "<style scoped>\n",
       "    .dataframe tbody tr th:only-of-type {\n",
       "        vertical-align: middle;\n",
       "    }\n",
       "\n",
       "    .dataframe tbody tr th {\n",
       "        vertical-align: top;\n",
       "    }\n",
       "\n",
       "    .dataframe thead th {\n",
       "        text-align: right;\n",
       "    }\n",
       "</style>\n",
       "<table border=\"1\" class=\"dataframe\">\n",
       "  <thead>\n",
       "    <tr style=\"text-align: right;\">\n",
       "      <th></th>\n",
       "      <th>温度</th>\n",
       "      <th>装料比</th>\n",
       "      <th>Co负载量</th>\n",
       "      <th>乙醇浓度</th>\n",
       "    </tr>\n",
       "  </thead>\n",
       "  <tbody>\n",
       "    <tr>\n",
       "      <th>0</th>\n",
       "      <td>250</td>\n",
       "      <td>1.0</td>\n",
       "      <td>1.0</td>\n",
       "      <td>1.68</td>\n",
       "    </tr>\n",
       "    <tr>\n",
       "      <th>1</th>\n",
       "      <td>275</td>\n",
       "      <td>1.0</td>\n",
       "      <td>1.0</td>\n",
       "      <td>1.68</td>\n",
       "    </tr>\n",
       "    <tr>\n",
       "      <th>2</th>\n",
       "      <td>300</td>\n",
       "      <td>1.0</td>\n",
       "      <td>1.0</td>\n",
       "      <td>1.68</td>\n",
       "    </tr>\n",
       "    <tr>\n",
       "      <th>3</th>\n",
       "      <td>325</td>\n",
       "      <td>1.0</td>\n",
       "      <td>1.0</td>\n",
       "      <td>1.68</td>\n",
       "    </tr>\n",
       "    <tr>\n",
       "      <th>4</th>\n",
       "      <td>350</td>\n",
       "      <td>1.0</td>\n",
       "      <td>1.0</td>\n",
       "      <td>1.68</td>\n",
       "    </tr>\n",
       "    <tr>\n",
       "      <th>...</th>\n",
       "      <td>...</td>\n",
       "      <td>...</td>\n",
       "      <td>...</td>\n",
       "      <td>...</td>\n",
       "    </tr>\n",
       "    <tr>\n",
       "      <th>104</th>\n",
       "      <td>275</td>\n",
       "      <td>1.0</td>\n",
       "      <td>1.0</td>\n",
       "      <td>0.90</td>\n",
       "    </tr>\n",
       "    <tr>\n",
       "      <th>105</th>\n",
       "      <td>300</td>\n",
       "      <td>1.0</td>\n",
       "      <td>1.0</td>\n",
       "      <td>0.90</td>\n",
       "    </tr>\n",
       "    <tr>\n",
       "      <th>106</th>\n",
       "      <td>325</td>\n",
       "      <td>1.0</td>\n",
       "      <td>1.0</td>\n",
       "      <td>0.90</td>\n",
       "    </tr>\n",
       "    <tr>\n",
       "      <th>107</th>\n",
       "      <td>350</td>\n",
       "      <td>1.0</td>\n",
       "      <td>1.0</td>\n",
       "      <td>0.90</td>\n",
       "    </tr>\n",
       "    <tr>\n",
       "      <th>108</th>\n",
       "      <td>400</td>\n",
       "      <td>1.0</td>\n",
       "      <td>1.0</td>\n",
       "      <td>0.90</td>\n",
       "    </tr>\n",
       "  </tbody>\n",
       "</table>\n",
       "<p>109 rows × 4 columns</p>\n",
       "</div>"
      ],
      "text/plain": [
       "      温度  装料比  Co负载量  乙醇浓度\n",
       "0    250  1.0    1.0  1.68\n",
       "1    275  1.0    1.0  1.68\n",
       "2    300  1.0    1.0  1.68\n",
       "3    325  1.0    1.0  1.68\n",
       "4    350  1.0    1.0  1.68\n",
       "..   ...  ...    ...   ...\n",
       "104  275  1.0    1.0  0.90\n",
       "105  300  1.0    1.0  0.90\n",
       "106  325  1.0    1.0  0.90\n",
       "107  350  1.0    1.0  0.90\n",
       "108  400  1.0    1.0  0.90\n",
       "\n",
       "[109 rows x 4 columns]"
      ]
     },
     "metadata": {},
     "execution_count": 122
    }
   ],
   "metadata": {}
  },
  {
   "cell_type": "code",
   "execution_count": 112,
   "source": [
    "x_train = x.values\r\n"
   ],
   "outputs": [],
   "metadata": {}
  },
  {
   "cell_type": "code",
   "execution_count": 144,
   "source": [
    "y = df.iloc[:,3]\r\n",
    "y"
   ],
   "outputs": [
    {
     "output_type": "execute_result",
     "data": {
      "text/plain": [
       "0       0.703871\n",
       "1       2.190299\n",
       "2       7.026398\n",
       "3       9.781635\n",
       "4      17.373760\n",
       "         ...    \n",
       "104     0.522980\n",
       "105     1.504620\n",
       "106     3.284100\n",
       "107     7.565100\n",
       "108    26.489980\n",
       "Name: C4烯烃收率(%), Length: 109, dtype: float64"
      ]
     },
     "metadata": {},
     "execution_count": 144
    }
   ],
   "metadata": {}
  },
  {
   "cell_type": "code",
   "execution_count": 116,
   "source": [
    "y_train = y.values"
   ],
   "outputs": [],
   "metadata": {}
  },
  {
   "cell_type": "code",
   "execution_count": 151,
   "source": [
    "from sklearn import svm\r\n",
    "X = x_train\r\n",
    "Y = y_train\r\n",
    "clf = svm.SVR()\r\n",
    "clf = clf.fit(X, Y)"
   ],
   "outputs": [],
   "metadata": {}
  },
  {
   "cell_type": "code",
   "execution_count": 152,
   "source": [
    "clf.predict(np.array([350, 1,1,1.68]).reshape(-1,4))"
   ],
   "outputs": [
    {
     "output_type": "execute_result",
     "data": {
      "text/plain": [
       "array([4.53247702])"
      ]
     },
     "metadata": {},
     "execution_count": 152
    }
   ],
   "metadata": {}
  },
  {
   "cell_type": "code",
   "execution_count": 153,
   "source": [
    "np.array([350, 1,1,1.68]).reshape(-1,4)"
   ],
   "outputs": [
    {
     "output_type": "execute_result",
     "data": {
      "text/plain": [
       "array([[350.  ,   1.  ,   1.  ,   1.68]])"
      ]
     },
     "metadata": {},
     "execution_count": 153
    }
   ],
   "metadata": {}
  },
  {
   "cell_type": "code",
   "execution_count": 163,
   "source": [
    "df['Co负载量'].value_counts()"
   ],
   "outputs": [
    {
     "output_type": "execute_result",
     "data": {
      "text/plain": [
       "1.0    82\n",
       "2.0    11\n",
       "5.0    10\n",
       "0.5     6\n",
       "Name: Co负载量, dtype: int64"
      ]
     },
     "metadata": {},
     "execution_count": 163
    }
   ],
   "metadata": {}
  },
  {
   "cell_type": "code",
   "execution_count": 167,
   "source": [
    "x = df.loc[(df['装料比']==1.0) & (df['Co负载量']==1.0) & (df['乙醇浓度']==1.68),'温度']"
   ],
   "outputs": [],
   "metadata": {}
  },
  {
   "cell_type": "code",
   "execution_count": 175,
   "source": [
    "x_train = x.values"
   ],
   "outputs": [],
   "metadata": {}
  },
  {
   "cell_type": "code",
   "execution_count": 176,
   "source": [
    "y_train = df.loc[(df['装料比']==1.0) & (df['Co负载量']==1.0) & (df['乙醇浓度']==1.68),'C4烯烃收率(%)'].values"
   ],
   "outputs": [],
   "metadata": {}
  },
  {
   "cell_type": "code",
   "execution_count": 177,
   "source": [
    "x_train.reshape(-1,1)"
   ],
   "outputs": [
    {
     "output_type": "execute_result",
     "data": {
      "text/plain": [
       "array([[250],\n",
       "       [275],\n",
       "       [300],\n",
       "       [325],\n",
       "       [350],\n",
       "       [250],\n",
       "       [275],\n",
       "       [300],\n",
       "       [350],\n",
       "       [400],\n",
       "       [250],\n",
       "       [275],\n",
       "       [300],\n",
       "       [350],\n",
       "       [400],\n",
       "       [250],\n",
       "       [275],\n",
       "       [300],\n",
       "       [350],\n",
       "       [400],\n",
       "       [250],\n",
       "       [275],\n",
       "       [300],\n",
       "       [325],\n",
       "       [350],\n",
       "       [400],\n",
       "       [250],\n",
       "       [275],\n",
       "       [300],\n",
       "       [325],\n",
       "       [350],\n",
       "       [400],\n",
       "       [250],\n",
       "       [275],\n",
       "       [300],\n",
       "       [325],\n",
       "       [350],\n",
       "       [400]], dtype=int64)"
      ]
     },
     "metadata": {},
     "execution_count": 177
    }
   ],
   "metadata": {}
  },
  {
   "cell_type": "code",
   "execution_count": 179,
   "source": [
    "from sklearn.ensemble import RandomForestRegressor\r\n",
    "X = x_train.reshape(-1,1)\r\n",
    "Y = y_train\r\n",
    "clf = RandomForestRegressor(n_estimators=50)\r\n",
    "clf = clf.fit(X, Y)"
   ],
   "outputs": [],
   "metadata": {}
  },
  {
   "cell_type": "code",
   "execution_count": 180,
   "source": [
    "clf.predict([[400]])"
   ],
   "outputs": [
    {
     "output_type": "execute_result",
     "data": {
      "text/plain": [
       "array([13.99777241])"
      ]
     },
     "metadata": {},
     "execution_count": 180
    }
   ],
   "metadata": {}
  },
  {
   "cell_type": "code",
   "execution_count": 255,
   "source": [
    "import torch\r\n",
    "from torch import nn\r\n",
    "import torch.functional as F"
   ],
   "outputs": [],
   "metadata": {}
  },
  {
   "cell_type": "code",
   "execution_count": 256,
   "source": [
    "model = nn.Sequential(nn.Linear(4,10),nn.Tanh(),nn.Linear(10,10),nn.Tanh(),nn.Linear(10,10),nn.Tanh(),nn.Linear(10,1))"
   ],
   "outputs": [],
   "metadata": {}
  },
  {
   "cell_type": "code",
   "execution_count": 257,
   "source": [
    "loss_func = nn.MSELoss()\r\n",
    "optimizer = torch.optim.SGD(model.parameters(),lr = 0.001)"
   ],
   "outputs": [],
   "metadata": {}
  },
  {
   "cell_type": "code",
   "execution_count": 258,
   "source": [
    "df.loc[df['温度'] <= 350 ,['温度','装料比','Co负载量','乙醇浓度']]"
   ],
   "outputs": [
    {
     "output_type": "execute_result",
     "data": {
      "text/html": [
       "<div>\n",
       "<style scoped>\n",
       "    .dataframe tbody tr th:only-of-type {\n",
       "        vertical-align: middle;\n",
       "    }\n",
       "\n",
       "    .dataframe tbody tr th {\n",
       "        vertical-align: top;\n",
       "    }\n",
       "\n",
       "    .dataframe thead th {\n",
       "        text-align: right;\n",
       "    }\n",
       "</style>\n",
       "<table border=\"1\" class=\"dataframe\">\n",
       "  <thead>\n",
       "    <tr style=\"text-align: right;\">\n",
       "      <th></th>\n",
       "      <th>温度</th>\n",
       "      <th>装料比</th>\n",
       "      <th>Co负载量</th>\n",
       "      <th>乙醇浓度</th>\n",
       "    </tr>\n",
       "  </thead>\n",
       "  <tbody>\n",
       "    <tr>\n",
       "      <th>0</th>\n",
       "      <td>250</td>\n",
       "      <td>1.0</td>\n",
       "      <td>1.0</td>\n",
       "      <td>1.68</td>\n",
       "    </tr>\n",
       "    <tr>\n",
       "      <th>1</th>\n",
       "      <td>275</td>\n",
       "      <td>1.0</td>\n",
       "      <td>1.0</td>\n",
       "      <td>1.68</td>\n",
       "    </tr>\n",
       "    <tr>\n",
       "      <th>2</th>\n",
       "      <td>300</td>\n",
       "      <td>1.0</td>\n",
       "      <td>1.0</td>\n",
       "      <td>1.68</td>\n",
       "    </tr>\n",
       "    <tr>\n",
       "      <th>3</th>\n",
       "      <td>325</td>\n",
       "      <td>1.0</td>\n",
       "      <td>1.0</td>\n",
       "      <td>1.68</td>\n",
       "    </tr>\n",
       "    <tr>\n",
       "      <th>4</th>\n",
       "      <td>350</td>\n",
       "      <td>1.0</td>\n",
       "      <td>1.0</td>\n",
       "      <td>1.68</td>\n",
       "    </tr>\n",
       "    <tr>\n",
       "      <th>...</th>\n",
       "      <td>...</td>\n",
       "      <td>...</td>\n",
       "      <td>...</td>\n",
       "      <td>...</td>\n",
       "    </tr>\n",
       "    <tr>\n",
       "      <th>103</th>\n",
       "      <td>250</td>\n",
       "      <td>1.0</td>\n",
       "      <td>1.0</td>\n",
       "      <td>0.90</td>\n",
       "    </tr>\n",
       "    <tr>\n",
       "      <th>104</th>\n",
       "      <td>275</td>\n",
       "      <td>1.0</td>\n",
       "      <td>1.0</td>\n",
       "      <td>0.90</td>\n",
       "    </tr>\n",
       "    <tr>\n",
       "      <th>105</th>\n",
       "      <td>300</td>\n",
       "      <td>1.0</td>\n",
       "      <td>1.0</td>\n",
       "      <td>0.90</td>\n",
       "    </tr>\n",
       "    <tr>\n",
       "      <th>106</th>\n",
       "      <td>325</td>\n",
       "      <td>1.0</td>\n",
       "      <td>1.0</td>\n",
       "      <td>0.90</td>\n",
       "    </tr>\n",
       "    <tr>\n",
       "      <th>107</th>\n",
       "      <td>350</td>\n",
       "      <td>1.0</td>\n",
       "      <td>1.0</td>\n",
       "      <td>0.90</td>\n",
       "    </tr>\n",
       "  </tbody>\n",
       "</table>\n",
       "<p>90 rows × 4 columns</p>\n",
       "</div>"
      ],
      "text/plain": [
       "      温度  装料比  Co负载量  乙醇浓度\n",
       "0    250  1.0    1.0  1.68\n",
       "1    275  1.0    1.0  1.68\n",
       "2    300  1.0    1.0  1.68\n",
       "3    325  1.0    1.0  1.68\n",
       "4    350  1.0    1.0  1.68\n",
       "..   ...  ...    ...   ...\n",
       "103  250  1.0    1.0  0.90\n",
       "104  275  1.0    1.0  0.90\n",
       "105  300  1.0    1.0  0.90\n",
       "106  325  1.0    1.0  0.90\n",
       "107  350  1.0    1.0  0.90\n",
       "\n",
       "[90 rows x 4 columns]"
      ]
     },
     "metadata": {},
     "execution_count": 258
    }
   ],
   "metadata": {}
  },
  {
   "cell_type": "code",
   "execution_count": 259,
   "source": [
    "X"
   ],
   "outputs": [
    {
     "output_type": "execute_result",
     "data": {
      "text/plain": [
       "tensor([[2.5000e+02, 1.0000e+00, 1.0000e+00, 1.6800e+00],\n",
       "        [2.7500e+02, 1.0000e+00, 1.0000e+00, 1.6800e+00],\n",
       "        [3.0000e+02, 1.0000e+00, 1.0000e+00, 1.6800e+00],\n",
       "        [3.2500e+02, 1.0000e+00, 1.0000e+00, 1.6800e+00],\n",
       "        [3.5000e+02, 1.0000e+00, 1.0000e+00, 1.6800e+00],\n",
       "        [2.5000e+02, 1.0000e+00, 2.0000e+00, 1.6800e+00],\n",
       "        [2.7500e+02, 1.0000e+00, 2.0000e+00, 1.6800e+00],\n",
       "        [3.0000e+02, 1.0000e+00, 2.0000e+00, 1.6800e+00],\n",
       "        [3.2500e+02, 1.0000e+00, 2.0000e+00, 1.6800e+00],\n",
       "        [3.5000e+02, 1.0000e+00, 2.0000e+00, 1.6800e+00],\n",
       "        [2.5000e+02, 1.0000e+00, 1.0000e+00, 9.0000e-01],\n",
       "        [2.7500e+02, 1.0000e+00, 1.0000e+00, 9.0000e-01],\n",
       "        [3.0000e+02, 1.0000e+00, 1.0000e+00, 9.0000e-01],\n",
       "        [3.2500e+02, 1.0000e+00, 1.0000e+00, 9.0000e-01],\n",
       "        [3.5000e+02, 1.0000e+00, 1.0000e+00, 9.0000e-01],\n",
       "        [2.5000e+02, 1.0000e+00, 5.0000e-01, 1.6800e+00],\n",
       "        [2.7500e+02, 1.0000e+00, 5.0000e-01, 1.6800e+00],\n",
       "        [3.0000e+02, 1.0000e+00, 5.0000e-01, 1.6800e+00],\n",
       "        [3.2500e+02, 1.0000e+00, 5.0000e-01, 1.6800e+00],\n",
       "        [3.5000e+02, 1.0000e+00, 5.0000e-01, 1.6800e+00],\n",
       "        [2.5000e+02, 1.0000e+00, 2.0000e+00, 3.0000e-01],\n",
       "        [2.7500e+02, 1.0000e+00, 2.0000e+00, 3.0000e-01],\n",
       "        [3.0000e+02, 1.0000e+00, 2.0000e+00, 3.0000e-01],\n",
       "        [3.2500e+02, 1.0000e+00, 2.0000e+00, 3.0000e-01],\n",
       "        [3.5000e+02, 1.0000e+00, 2.0000e+00, 3.0000e-01],\n",
       "        [2.5000e+02, 1.0000e+00, 5.0000e+00, 1.6800e+00],\n",
       "        [2.7500e+02, 1.0000e+00, 5.0000e+00, 1.6800e+00],\n",
       "        [3.0000e+02, 1.0000e+00, 5.0000e+00, 1.6800e+00],\n",
       "        [3.5000e+02, 1.0000e+00, 5.0000e+00, 1.6800e+00],\n",
       "        [2.5000e+02, 1.0000e+00, 1.0000e+00, 3.0000e-01],\n",
       "        [2.7500e+02, 1.0000e+00, 1.0000e+00, 3.0000e-01],\n",
       "        [3.0000e+02, 1.0000e+00, 1.0000e+00, 3.0000e-01],\n",
       "        [3.5000e+02, 1.0000e+00, 1.0000e+00, 3.0000e-01],\n",
       "        [2.5000e+02, 1.0000e+00, 1.0000e+00, 9.0000e-01],\n",
       "        [2.7500e+02, 1.0000e+00, 1.0000e+00, 9.0000e-01],\n",
       "        [3.0000e+02, 1.0000e+00, 1.0000e+00, 9.0000e-01],\n",
       "        [3.5000e+02, 1.0000e+00, 1.0000e+00, 9.0000e-01],\n",
       "        [2.5000e+02, 1.0000e+00, 1.0000e+00, 2.1000e+00],\n",
       "        [2.7500e+02, 1.0000e+00, 1.0000e+00, 2.1000e+00],\n",
       "        [3.0000e+02, 1.0000e+00, 1.0000e+00, 2.1000e+00],\n",
       "        [3.5000e+02, 1.0000e+00, 1.0000e+00, 2.1000e+00],\n",
       "        [2.5000e+02, 1.0000e+00, 5.0000e+00, 2.1000e+00],\n",
       "        [2.7500e+02, 1.0000e+00, 5.0000e+00, 2.1000e+00],\n",
       "        [3.0000e+02, 1.0000e+00, 5.0000e+00, 2.1000e+00],\n",
       "        [3.5000e+02, 1.0000e+00, 5.0000e+00, 2.1000e+00],\n",
       "        [2.5000e+02, 1.0000e+00, 1.0000e+00, 1.6800e+00],\n",
       "        [2.7500e+02, 1.0000e+00, 1.0000e+00, 1.6800e+00],\n",
       "        [3.0000e+02, 1.0000e+00, 1.0000e+00, 1.6800e+00],\n",
       "        [3.5000e+02, 1.0000e+00, 1.0000e+00, 1.6800e+00],\n",
       "        [2.5000e+02, 2.0000e+00, 1.0000e+00, 1.6800e+00],\n",
       "        [2.7500e+02, 2.0000e+00, 1.0000e+00, 1.6800e+00],\n",
       "        [3.0000e+02, 2.0000e+00, 1.0000e+00, 1.6800e+00],\n",
       "        [3.5000e+02, 2.0000e+00, 1.0000e+00, 1.6800e+00],\n",
       "        [2.5000e+02, 5.0000e-01, 1.0000e+00, 1.6800e+00],\n",
       "        [2.7500e+02, 5.0000e-01, 1.0000e+00, 1.6800e+00],\n",
       "        [3.0000e+02, 5.0000e-01, 1.0000e+00, 1.6800e+00],\n",
       "        [3.5000e+02, 5.0000e-01, 1.0000e+00, 1.6800e+00],\n",
       "        [2.5000e+02, 1.0000e+00, 1.0000e+00, 1.6800e+00],\n",
       "        [2.7500e+02, 1.0000e+00, 1.0000e+00, 1.6800e+00],\n",
       "        [3.0000e+02, 1.0000e+00, 1.0000e+00, 1.6800e+00],\n",
       "        [3.5000e+02, 1.0000e+00, 1.0000e+00, 1.6800e+00],\n",
       "        [2.5000e+02, 1.0000e+00, 1.0000e+00, 1.6800e+00],\n",
       "        [2.7500e+02, 1.0000e+00, 1.0000e+00, 1.6800e+00],\n",
       "        [3.0000e+02, 1.0000e+00, 1.0000e+00, 1.6800e+00],\n",
       "        [3.5000e+02, 1.0000e+00, 1.0000e+00, 1.6800e+00],\n",
       "        [2.5000e+02, 1.0000e+00, 1.0000e+00, 1.6800e+00],\n",
       "        [2.7500e+02, 1.0000e+00, 1.0000e+00, 1.6800e+00],\n",
       "        [3.0000e+02, 1.0000e+00, 1.0000e+00, 1.6800e+00],\n",
       "        [3.2500e+02, 1.0000e+00, 1.0000e+00, 1.6800e+00],\n",
       "        [3.5000e+02, 1.0000e+00, 1.0000e+00, 1.6800e+00],\n",
       "        [2.5000e+02, 1.0000e+00, 1.0000e+00, 1.6800e+00],\n",
       "        [2.7500e+02, 1.0000e+00, 1.0000e+00, 1.6800e+00],\n",
       "        [3.0000e+02, 1.0000e+00, 1.0000e+00, 1.6800e+00],\n",
       "        [3.2500e+02, 1.0000e+00, 1.0000e+00, 1.6800e+00],\n",
       "        [3.5000e+02, 1.0000e+00, 1.0000e+00, 1.6800e+00],\n",
       "        [2.5000e+02, 1.0000e+00, 1.0000e+00, 2.1000e+00],\n",
       "        [2.7500e+02, 1.0000e+00, 1.0000e+00, 2.1000e+00],\n",
       "        [3.0000e+02, 1.0000e+00, 1.0000e+00, 2.1000e+00],\n",
       "        [3.2500e+02, 1.0000e+00, 1.0000e+00, 2.1000e+00],\n",
       "        [3.5000e+02, 1.0000e+00, 1.0000e+00, 2.1000e+00],\n",
       "        [2.5000e+02, 1.0000e+00, 1.0000e+00, 1.6800e+00],\n",
       "        [2.7500e+02, 1.0000e+00, 1.0000e+00, 1.6800e+00],\n",
       "        [3.0000e+02, 1.0000e+00, 1.0000e+00, 1.6800e+00],\n",
       "        [3.2500e+02, 1.0000e+00, 1.0000e+00, 1.6800e+00],\n",
       "        [3.5000e+02, 1.0000e+00, 1.0000e+00, 1.6800e+00],\n",
       "        [2.5000e+02, 1.0000e+00, 1.0000e+00, 9.0000e-01],\n",
       "        [2.7500e+02, 1.0000e+00, 1.0000e+00, 9.0000e-01],\n",
       "        [3.0000e+02, 1.0000e+00, 1.0000e+00, 9.0000e-01],\n",
       "        [3.2500e+02, 1.0000e+00, 1.0000e+00, 9.0000e-01],\n",
       "        [3.5000e+02, 1.0000e+00, 1.0000e+00, 9.0000e-01]])"
      ]
     },
     "metadata": {},
     "execution_count": 259
    }
   ],
   "metadata": {}
  },
  {
   "cell_type": "code",
   "execution_count": 260,
   "source": [
    "X = df.loc[df['温度'] <= 350 ,['温度','装料比','Co负载量','乙醇浓度']].values\r\n",
    "X = torch.tensor(X,dtype=torch.float32)"
   ],
   "outputs": [],
   "metadata": {}
  },
  {
   "cell_type": "code",
   "execution_count": 261,
   "source": [
    "y = df.loc[df['温度'] <= 350,'C4烯烃收率(%)'].values.reshape(-1,1)\r\n",
    "y = torch.tensor(y,dtype=torch.float32)"
   ],
   "outputs": [],
   "metadata": {}
  },
  {
   "cell_type": "code",
   "execution_count": 262,
   "source": [
    "epochs = 6000\r\n",
    "print(\"epoch\\t loss\\t\")\r\n",
    "model.train()\r\n",
    "for i in range(epochs):\r\n",
    "    y_hat = model(X)\r\n",
    "    loss = loss_func(y_hat, y)\r\n",
    "    optimizer.zero_grad()\r\n",
    "    loss.backward()\r\n",
    "    optimizer.step()\r\n",
    "    if((i+1)%100 == 0):\r\n",
    "        print(\"{}\\t {:.5f}\".format(i+1,loss.item()))\r\n",
    "\r\n"
   ],
   "outputs": [
    {
     "output_type": "stream",
     "name": "stdout",
     "text": [
      "epoch\t loss\t\n",
      "100\t 24.51607\n",
      "200\t 23.12154\n",
      "300\t 23.03896\n",
      "400\t 23.03526\n",
      "500\t 23.03510\n",
      "600\t 23.03509\n",
      "700\t 23.03509\n",
      "800\t 23.03509\n",
      "900\t 23.03509\n",
      "1000\t 23.03509\n",
      "1100\t 23.03509\n",
      "1200\t 23.03509\n",
      "1300\t 23.03509\n",
      "1400\t 23.03509\n",
      "1500\t 23.03509\n",
      "1600\t 23.03509\n",
      "1700\t 23.03509\n",
      "1800\t 23.03509\n",
      "1900\t 23.03509\n",
      "2000\t 23.03509\n",
      "2100\t 23.03509\n",
      "2200\t 23.03509\n",
      "2300\t 23.03509\n",
      "2400\t 23.03509\n",
      "2500\t 23.03509\n",
      "2600\t 23.03509\n",
      "2700\t 23.03509\n",
      "2800\t 23.03509\n",
      "2900\t 23.03509\n",
      "3000\t 23.03509\n",
      "3100\t 23.03509\n",
      "3200\t 23.03509\n",
      "3300\t 23.03509\n",
      "3400\t 23.03509\n",
      "3500\t 23.03509\n",
      "3600\t 23.03509\n",
      "3700\t 23.03509\n",
      "3800\t 23.03509\n",
      "3900\t 23.03509\n",
      "4000\t 23.03509\n",
      "4100\t 23.03509\n",
      "4200\t 23.03509\n",
      "4300\t 23.03509\n",
      "4400\t 23.03509\n",
      "4500\t 23.03509\n",
      "4600\t 23.03509\n",
      "4700\t 23.03509\n",
      "4800\t 23.03509\n",
      "4900\t 23.03509\n",
      "5000\t 23.03509\n",
      "5100\t 23.03509\n",
      "5200\t 23.03509\n",
      "5300\t 23.03509\n",
      "5400\t 23.03509\n",
      "5500\t 23.03509\n",
      "5600\t 23.03509\n",
      "5700\t 23.03509\n",
      "5800\t 23.03509\n",
      "5900\t 23.03509\n",
      "6000\t 23.03509\n"
     ]
    }
   ],
   "metadata": {}
  },
  {
   "cell_type": "code",
   "execution_count": 263,
   "source": [
    "model(torch.tensor(np.array([350,1,1,1.68]).reshape(-1,4),dtype = torch.float32))"
   ],
   "outputs": [
    {
     "output_type": "execute_result",
     "data": {
      "text/plain": [
       "tensor([[2.9941]], grad_fn=<AddmmBackward>)"
      ]
     },
     "metadata": {},
     "execution_count": 263
    }
   ],
   "metadata": {}
  },
  {
   "cell_type": "code",
   "execution_count": 265,
   "source": [
    "x = df.loc[df['温度']<=350, :]\r\n",
    "x.head()"
   ],
   "outputs": [
    {
     "output_type": "execute_result",
     "data": {
      "text/html": [
       "<div>\n",
       "<style scoped>\n",
       "    .dataframe tbody tr th:only-of-type {\n",
       "        vertical-align: middle;\n",
       "    }\n",
       "\n",
       "    .dataframe tbody tr th {\n",
       "        vertical-align: top;\n",
       "    }\n",
       "\n",
       "    .dataframe thead th {\n",
       "        text-align: right;\n",
       "    }\n",
       "</style>\n",
       "<table border=\"1\" class=\"dataframe\">\n",
       "  <thead>\n",
       "    <tr style=\"text-align: right;\">\n",
       "      <th></th>\n",
       "      <th>温度</th>\n",
       "      <th>乙醇转化率(%)</th>\n",
       "      <th>C4烯烃选择性(%)</th>\n",
       "      <th>C4烯烃收率(%)</th>\n",
       "      <th>装料比</th>\n",
       "      <th>Co负载量</th>\n",
       "      <th>乙醇浓度</th>\n",
       "    </tr>\n",
       "  </thead>\n",
       "  <tbody>\n",
       "    <tr>\n",
       "      <th>0</th>\n",
       "      <td>250</td>\n",
       "      <td>2.067169</td>\n",
       "      <td>34.05</td>\n",
       "      <td>0.703871</td>\n",
       "      <td>1.0</td>\n",
       "      <td>1.0</td>\n",
       "      <td>1.68</td>\n",
       "    </tr>\n",
       "    <tr>\n",
       "      <th>1</th>\n",
       "      <td>275</td>\n",
       "      <td>5.851721</td>\n",
       "      <td>37.43</td>\n",
       "      <td>2.190299</td>\n",
       "      <td>1.0</td>\n",
       "      <td>1.0</td>\n",
       "      <td>1.68</td>\n",
       "    </tr>\n",
       "    <tr>\n",
       "      <th>2</th>\n",
       "      <td>300</td>\n",
       "      <td>14.968891</td>\n",
       "      <td>46.94</td>\n",
       "      <td>7.026398</td>\n",
       "      <td>1.0</td>\n",
       "      <td>1.0</td>\n",
       "      <td>1.68</td>\n",
       "    </tr>\n",
       "    <tr>\n",
       "      <th>3</th>\n",
       "      <td>325</td>\n",
       "      <td>19.681359</td>\n",
       "      <td>49.70</td>\n",
       "      <td>9.781635</td>\n",
       "      <td>1.0</td>\n",
       "      <td>1.0</td>\n",
       "      <td>1.68</td>\n",
       "    </tr>\n",
       "    <tr>\n",
       "      <th>4</th>\n",
       "      <td>350</td>\n",
       "      <td>36.801017</td>\n",
       "      <td>47.21</td>\n",
       "      <td>17.373760</td>\n",
       "      <td>1.0</td>\n",
       "      <td>1.0</td>\n",
       "      <td>1.68</td>\n",
       "    </tr>\n",
       "  </tbody>\n",
       "</table>\n",
       "</div>"
      ],
      "text/plain": [
       "    温度   乙醇转化率(%)  C4烯烃选择性(%)  C4烯烃收率(%)  装料比  Co负载量  乙醇浓度\n",
       "0  250   2.067169       34.05   0.703871  1.0    1.0  1.68\n",
       "1  275   5.851721       37.43   2.190299  1.0    1.0  1.68\n",
       "2  300  14.968891       46.94   7.026398  1.0    1.0  1.68\n",
       "3  325  19.681359       49.70   9.781635  1.0    1.0  1.68\n",
       "4  350  36.801017       47.21  17.373760  1.0    1.0  1.68"
      ]
     },
     "metadata": {},
     "execution_count": 265
    }
   ],
   "metadata": {}
  },
  {
   "cell_type": "code",
   "execution_count": 267,
   "source": [
    "import plotly.express as px"
   ],
   "outputs": [],
   "metadata": {}
  },
  {
   "cell_type": "code",
   "execution_count": 269,
   "source": [
    "px.line(x = x['温度'],y = x['C4烯烃收率(%)'])"
   ],
   "outputs": [
    {
     "output_type": "display_data",
     "data": {
      "application/vnd.plotly.v1+json": {
       "config": {
        "plotlyServerURL": "https://plot.ly"
       },
       "data": [
        {
         "hovertemplate": "x=%{x}<br>y=%{y}<extra></extra>",
         "legendgroup": "",
         "line": {
          "color": "#636efa",
          "dash": "solid"
         },
         "marker": {
          "symbol": "circle"
         },
         "mode": "lines",
         "name": "",
         "orientation": "v",
         "showlegend": false,
         "type": "scatter",
         "x": [
          250,
          275,
          300,
          325,
          350,
          250,
          275,
          300,
          325,
          350,
          250,
          275,
          300,
          325,
          350,
          250,
          275,
          300,
          325,
          350,
          250,
          275,
          300,
          325,
          350,
          250,
          275,
          300,
          350,
          250,
          275,
          300,
          350,
          250,
          275,
          300,
          350,
          250,
          275,
          300,
          350,
          250,
          275,
          300,
          350,
          250,
          275,
          300,
          350,
          250,
          275,
          300,
          350,
          250,
          275,
          300,
          350,
          250,
          275,
          300,
          350,
          250,
          275,
          300,
          350,
          250,
          275,
          300,
          325,
          350,
          250,
          275,
          300,
          325,
          350,
          250,
          275,
          300,
          325,
          350,
          250,
          275,
          300,
          325,
          350,
          250,
          275,
          300,
          325,
          350
         ],
         "xaxis": "x",
         "y": [
          0.7038711975827424,
          2.190299165260949,
          7.026397666433001,
          9.781635471041264,
          17.37376011213562,
          0.8317616003446753,
          2.9713891232742857,
          7.628760079778667,
          17.264309323382783,
          26.54080463653922,
          0.5318155126370846,
          1.5466496040026507,
          4.975464725007,
          10.792741970532303,
          18.033300952943215,
          0.3866654453389684,
          1.0428267280231072,
          3.1598876726229275,
          8.184209991332231,
          16.47764672609587,
          0.2898287938779265,
          0.8261967187578618,
          2.1058279387568346,
          3.9291555823889013,
          6.902171052666581,
          0.4418500920350583,
          0.907450344598929,
          1.829407723292543,
          5.937910401184776,
          1.130236756570167,
          1.9053491302678447,
          3.534617971394149,
          10.923971399534079,
          0.3527609893506041,
          0.7464857606131792,
          1.8213444171452309,
          8.212479622955009,
          0.11087072689947572,
          0.2906489328279964,
          0.7614013014478017,
          4.157107976077091,
          0.007007210853949738,
          0.016754981562387583,
          0.03655746339926341,
          0.297621750672704,
          0.08895346643336184,
          0.2817114251791775,
          0.7757942895258205,
          4.4324774587816105,
          0.06990662387269718,
          0.17567574604200764,
          0.5181013139844182,
          3.434256810399326,
          0.0471118147757758,
          0.13603829663782352,
          0.3664885088935588,
          2.6026546135184345,
          0.08899709141321342,
          0.28197789784426186,
          0.8256735235157906,
          5.014615503744418,
          0.09007458752920544,
          0.21881225526508088,
          0.5800360483174444,
          3.7035929455483587,
          0.011251067601713707,
          0.03291308401983224,
          0.08743497733463128,
          0.25427547412076795,
          0.8300223686599865,
          0.036011721809915465,
          0.07369096880217259,
          0.15225674132479733,
          0.5043963015271176,
          1.2632803259720704,
          0.09121361647886046,
          0.19397866840118347,
          0.46031993297387536,
          1.1437829127991563,
          2.4334242812586555,
          0.124567626533238,
          0.3597411105044312,
          1.106707130854195,
          2.546949639772391,
          6.057638855160789,
          0.17952,
          0.52298,
          1.5046199999999998,
          3.2841000000000005,
          7.5651
         ],
         "yaxis": "y"
        }
       ],
       "layout": {
        "legend": {
         "tracegroupgap": 0
        },
        "margin": {
         "t": 60
        },
        "template": {
         "data": {
          "bar": [
           {
            "error_x": {
             "color": "#2a3f5f"
            },
            "error_y": {
             "color": "#2a3f5f"
            },
            "marker": {
             "line": {
              "color": "#E5ECF6",
              "width": 0.5
             },
             "pattern": {
              "fillmode": "overlay",
              "size": 10,
              "solidity": 0.2
             }
            },
            "type": "bar"
           }
          ],
          "barpolar": [
           {
            "marker": {
             "line": {
              "color": "#E5ECF6",
              "width": 0.5
             },
             "pattern": {
              "fillmode": "overlay",
              "size": 10,
              "solidity": 0.2
             }
            },
            "type": "barpolar"
           }
          ],
          "carpet": [
           {
            "aaxis": {
             "endlinecolor": "#2a3f5f",
             "gridcolor": "white",
             "linecolor": "white",
             "minorgridcolor": "white",
             "startlinecolor": "#2a3f5f"
            },
            "baxis": {
             "endlinecolor": "#2a3f5f",
             "gridcolor": "white",
             "linecolor": "white",
             "minorgridcolor": "white",
             "startlinecolor": "#2a3f5f"
            },
            "type": "carpet"
           }
          ],
          "choropleth": [
           {
            "colorbar": {
             "outlinewidth": 0,
             "ticks": ""
            },
            "type": "choropleth"
           }
          ],
          "contour": [
           {
            "colorbar": {
             "outlinewidth": 0,
             "ticks": ""
            },
            "colorscale": [
             [
              0,
              "#0d0887"
             ],
             [
              0.1111111111111111,
              "#46039f"
             ],
             [
              0.2222222222222222,
              "#7201a8"
             ],
             [
              0.3333333333333333,
              "#9c179e"
             ],
             [
              0.4444444444444444,
              "#bd3786"
             ],
             [
              0.5555555555555556,
              "#d8576b"
             ],
             [
              0.6666666666666666,
              "#ed7953"
             ],
             [
              0.7777777777777778,
              "#fb9f3a"
             ],
             [
              0.8888888888888888,
              "#fdca26"
             ],
             [
              1,
              "#f0f921"
             ]
            ],
            "type": "contour"
           }
          ],
          "contourcarpet": [
           {
            "colorbar": {
             "outlinewidth": 0,
             "ticks": ""
            },
            "type": "contourcarpet"
           }
          ],
          "heatmap": [
           {
            "colorbar": {
             "outlinewidth": 0,
             "ticks": ""
            },
            "colorscale": [
             [
              0,
              "#0d0887"
             ],
             [
              0.1111111111111111,
              "#46039f"
             ],
             [
              0.2222222222222222,
              "#7201a8"
             ],
             [
              0.3333333333333333,
              "#9c179e"
             ],
             [
              0.4444444444444444,
              "#bd3786"
             ],
             [
              0.5555555555555556,
              "#d8576b"
             ],
             [
              0.6666666666666666,
              "#ed7953"
             ],
             [
              0.7777777777777778,
              "#fb9f3a"
             ],
             [
              0.8888888888888888,
              "#fdca26"
             ],
             [
              1,
              "#f0f921"
             ]
            ],
            "type": "heatmap"
           }
          ],
          "heatmapgl": [
           {
            "colorbar": {
             "outlinewidth": 0,
             "ticks": ""
            },
            "colorscale": [
             [
              0,
              "#0d0887"
             ],
             [
              0.1111111111111111,
              "#46039f"
             ],
             [
              0.2222222222222222,
              "#7201a8"
             ],
             [
              0.3333333333333333,
              "#9c179e"
             ],
             [
              0.4444444444444444,
              "#bd3786"
             ],
             [
              0.5555555555555556,
              "#d8576b"
             ],
             [
              0.6666666666666666,
              "#ed7953"
             ],
             [
              0.7777777777777778,
              "#fb9f3a"
             ],
             [
              0.8888888888888888,
              "#fdca26"
             ],
             [
              1,
              "#f0f921"
             ]
            ],
            "type": "heatmapgl"
           }
          ],
          "histogram": [
           {
            "marker": {
             "pattern": {
              "fillmode": "overlay",
              "size": 10,
              "solidity": 0.2
             }
            },
            "type": "histogram"
           }
          ],
          "histogram2d": [
           {
            "colorbar": {
             "outlinewidth": 0,
             "ticks": ""
            },
            "colorscale": [
             [
              0,
              "#0d0887"
             ],
             [
              0.1111111111111111,
              "#46039f"
             ],
             [
              0.2222222222222222,
              "#7201a8"
             ],
             [
              0.3333333333333333,
              "#9c179e"
             ],
             [
              0.4444444444444444,
              "#bd3786"
             ],
             [
              0.5555555555555556,
              "#d8576b"
             ],
             [
              0.6666666666666666,
              "#ed7953"
             ],
             [
              0.7777777777777778,
              "#fb9f3a"
             ],
             [
              0.8888888888888888,
              "#fdca26"
             ],
             [
              1,
              "#f0f921"
             ]
            ],
            "type": "histogram2d"
           }
          ],
          "histogram2dcontour": [
           {
            "colorbar": {
             "outlinewidth": 0,
             "ticks": ""
            },
            "colorscale": [
             [
              0,
              "#0d0887"
             ],
             [
              0.1111111111111111,
              "#46039f"
             ],
             [
              0.2222222222222222,
              "#7201a8"
             ],
             [
              0.3333333333333333,
              "#9c179e"
             ],
             [
              0.4444444444444444,
              "#bd3786"
             ],
             [
              0.5555555555555556,
              "#d8576b"
             ],
             [
              0.6666666666666666,
              "#ed7953"
             ],
             [
              0.7777777777777778,
              "#fb9f3a"
             ],
             [
              0.8888888888888888,
              "#fdca26"
             ],
             [
              1,
              "#f0f921"
             ]
            ],
            "type": "histogram2dcontour"
           }
          ],
          "mesh3d": [
           {
            "colorbar": {
             "outlinewidth": 0,
             "ticks": ""
            },
            "type": "mesh3d"
           }
          ],
          "parcoords": [
           {
            "line": {
             "colorbar": {
              "outlinewidth": 0,
              "ticks": ""
             }
            },
            "type": "parcoords"
           }
          ],
          "pie": [
           {
            "automargin": true,
            "type": "pie"
           }
          ],
          "scatter": [
           {
            "marker": {
             "colorbar": {
              "outlinewidth": 0,
              "ticks": ""
             }
            },
            "type": "scatter"
           }
          ],
          "scatter3d": [
           {
            "line": {
             "colorbar": {
              "outlinewidth": 0,
              "ticks": ""
             }
            },
            "marker": {
             "colorbar": {
              "outlinewidth": 0,
              "ticks": ""
             }
            },
            "type": "scatter3d"
           }
          ],
          "scattercarpet": [
           {
            "marker": {
             "colorbar": {
              "outlinewidth": 0,
              "ticks": ""
             }
            },
            "type": "scattercarpet"
           }
          ],
          "scattergeo": [
           {
            "marker": {
             "colorbar": {
              "outlinewidth": 0,
              "ticks": ""
             }
            },
            "type": "scattergeo"
           }
          ],
          "scattergl": [
           {
            "marker": {
             "colorbar": {
              "outlinewidth": 0,
              "ticks": ""
             }
            },
            "type": "scattergl"
           }
          ],
          "scattermapbox": [
           {
            "marker": {
             "colorbar": {
              "outlinewidth": 0,
              "ticks": ""
             }
            },
            "type": "scattermapbox"
           }
          ],
          "scatterpolar": [
           {
            "marker": {
             "colorbar": {
              "outlinewidth": 0,
              "ticks": ""
             }
            },
            "type": "scatterpolar"
           }
          ],
          "scatterpolargl": [
           {
            "marker": {
             "colorbar": {
              "outlinewidth": 0,
              "ticks": ""
             }
            },
            "type": "scatterpolargl"
           }
          ],
          "scatterternary": [
           {
            "marker": {
             "colorbar": {
              "outlinewidth": 0,
              "ticks": ""
             }
            },
            "type": "scatterternary"
           }
          ],
          "surface": [
           {
            "colorbar": {
             "outlinewidth": 0,
             "ticks": ""
            },
            "colorscale": [
             [
              0,
              "#0d0887"
             ],
             [
              0.1111111111111111,
              "#46039f"
             ],
             [
              0.2222222222222222,
              "#7201a8"
             ],
             [
              0.3333333333333333,
              "#9c179e"
             ],
             [
              0.4444444444444444,
              "#bd3786"
             ],
             [
              0.5555555555555556,
              "#d8576b"
             ],
             [
              0.6666666666666666,
              "#ed7953"
             ],
             [
              0.7777777777777778,
              "#fb9f3a"
             ],
             [
              0.8888888888888888,
              "#fdca26"
             ],
             [
              1,
              "#f0f921"
             ]
            ],
            "type": "surface"
           }
          ],
          "table": [
           {
            "cells": {
             "fill": {
              "color": "#EBF0F8"
             },
             "line": {
              "color": "white"
             }
            },
            "header": {
             "fill": {
              "color": "#C8D4E3"
             },
             "line": {
              "color": "white"
             }
            },
            "type": "table"
           }
          ]
         },
         "layout": {
          "annotationdefaults": {
           "arrowcolor": "#2a3f5f",
           "arrowhead": 0,
           "arrowwidth": 1
          },
          "autotypenumbers": "strict",
          "coloraxis": {
           "colorbar": {
            "outlinewidth": 0,
            "ticks": ""
           }
          },
          "colorscale": {
           "diverging": [
            [
             0,
             "#8e0152"
            ],
            [
             0.1,
             "#c51b7d"
            ],
            [
             0.2,
             "#de77ae"
            ],
            [
             0.3,
             "#f1b6da"
            ],
            [
             0.4,
             "#fde0ef"
            ],
            [
             0.5,
             "#f7f7f7"
            ],
            [
             0.6,
             "#e6f5d0"
            ],
            [
             0.7,
             "#b8e186"
            ],
            [
             0.8,
             "#7fbc41"
            ],
            [
             0.9,
             "#4d9221"
            ],
            [
             1,
             "#276419"
            ]
           ],
           "sequential": [
            [
             0,
             "#0d0887"
            ],
            [
             0.1111111111111111,
             "#46039f"
            ],
            [
             0.2222222222222222,
             "#7201a8"
            ],
            [
             0.3333333333333333,
             "#9c179e"
            ],
            [
             0.4444444444444444,
             "#bd3786"
            ],
            [
             0.5555555555555556,
             "#d8576b"
            ],
            [
             0.6666666666666666,
             "#ed7953"
            ],
            [
             0.7777777777777778,
             "#fb9f3a"
            ],
            [
             0.8888888888888888,
             "#fdca26"
            ],
            [
             1,
             "#f0f921"
            ]
           ],
           "sequentialminus": [
            [
             0,
             "#0d0887"
            ],
            [
             0.1111111111111111,
             "#46039f"
            ],
            [
             0.2222222222222222,
             "#7201a8"
            ],
            [
             0.3333333333333333,
             "#9c179e"
            ],
            [
             0.4444444444444444,
             "#bd3786"
            ],
            [
             0.5555555555555556,
             "#d8576b"
            ],
            [
             0.6666666666666666,
             "#ed7953"
            ],
            [
             0.7777777777777778,
             "#fb9f3a"
            ],
            [
             0.8888888888888888,
             "#fdca26"
            ],
            [
             1,
             "#f0f921"
            ]
           ]
          },
          "colorway": [
           "#636efa",
           "#EF553B",
           "#00cc96",
           "#ab63fa",
           "#FFA15A",
           "#19d3f3",
           "#FF6692",
           "#B6E880",
           "#FF97FF",
           "#FECB52"
          ],
          "font": {
           "color": "#2a3f5f"
          },
          "geo": {
           "bgcolor": "white",
           "lakecolor": "white",
           "landcolor": "#E5ECF6",
           "showlakes": true,
           "showland": true,
           "subunitcolor": "white"
          },
          "hoverlabel": {
           "align": "left"
          },
          "hovermode": "closest",
          "mapbox": {
           "style": "light"
          },
          "paper_bgcolor": "white",
          "plot_bgcolor": "#E5ECF6",
          "polar": {
           "angularaxis": {
            "gridcolor": "white",
            "linecolor": "white",
            "ticks": ""
           },
           "bgcolor": "#E5ECF6",
           "radialaxis": {
            "gridcolor": "white",
            "linecolor": "white",
            "ticks": ""
           }
          },
          "scene": {
           "xaxis": {
            "backgroundcolor": "#E5ECF6",
            "gridcolor": "white",
            "gridwidth": 2,
            "linecolor": "white",
            "showbackground": true,
            "ticks": "",
            "zerolinecolor": "white"
           },
           "yaxis": {
            "backgroundcolor": "#E5ECF6",
            "gridcolor": "white",
            "gridwidth": 2,
            "linecolor": "white",
            "showbackground": true,
            "ticks": "",
            "zerolinecolor": "white"
           },
           "zaxis": {
            "backgroundcolor": "#E5ECF6",
            "gridcolor": "white",
            "gridwidth": 2,
            "linecolor": "white",
            "showbackground": true,
            "ticks": "",
            "zerolinecolor": "white"
           }
          },
          "shapedefaults": {
           "line": {
            "color": "#2a3f5f"
           }
          },
          "ternary": {
           "aaxis": {
            "gridcolor": "white",
            "linecolor": "white",
            "ticks": ""
           },
           "baxis": {
            "gridcolor": "white",
            "linecolor": "white",
            "ticks": ""
           },
           "bgcolor": "#E5ECF6",
           "caxis": {
            "gridcolor": "white",
            "linecolor": "white",
            "ticks": ""
           }
          },
          "title": {
           "x": 0.05
          },
          "xaxis": {
           "automargin": true,
           "gridcolor": "white",
           "linecolor": "white",
           "ticks": "",
           "title": {
            "standoff": 15
           },
           "zerolinecolor": "white",
           "zerolinewidth": 2
          },
          "yaxis": {
           "automargin": true,
           "gridcolor": "white",
           "linecolor": "white",
           "ticks": "",
           "title": {
            "standoff": 15
           },
           "zerolinecolor": "white",
           "zerolinewidth": 2
          }
         }
        },
        "xaxis": {
         "anchor": "y",
         "domain": [
          0,
          1
         ],
         "title": {
          "text": "x"
         }
        },
        "yaxis": {
         "anchor": "x",
         "domain": [
          0,
          1
         ],
         "title": {
          "text": "y"
         }
        }
       }
      }
     },
     "metadata": {}
    }
   ],
   "metadata": {}
  },
  {
   "cell_type": "code",
   "execution_count": null,
   "source": [],
   "outputs": [],
   "metadata": {}
  }
 ],
 "metadata": {
  "orig_nbformat": 4,
  "language_info": {
   "name": "python",
   "version": "3.8.5",
   "mimetype": "text/x-python",
   "codemirror_mode": {
    "name": "ipython",
    "version": 3
   },
   "pygments_lexer": "ipython3",
   "nbconvert_exporter": "python",
   "file_extension": ".py"
  },
  "kernelspec": {
   "name": "python3",
   "display_name": "Python 3.8.5 64-bit ('base': conda)"
  },
  "interpreter": {
   "hash": "cc5f70855ac006f3de45a3cc3b9e7d8d53845e50458809cb162b0174266dec97"
  }
 },
 "nbformat": 4,
 "nbformat_minor": 2
}